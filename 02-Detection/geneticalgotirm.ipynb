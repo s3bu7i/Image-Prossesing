{
  "cells": [
    {
      "cell_type": "code",
      "execution_count": 1,
      "metadata": {
        "id": "xu7pvfw-tRZn"
      },
      "outputs": [],
      "source": [
        "import numpy as np\n",
        "import random\n",
        "\n",
        "from datetime import datetime"
      ]
    },
    {
      "cell_type": "code",
      "execution_count": 2,
      "metadata": {
        "id": "ROswRYA1tink"
      },
      "outputs": [],
      "source": [
        "cities = 8\n",
        "\n",
        "population = 100\n",
        "\n",
        "mutation_rate = 0.3"
      ]
    },
    {
      "cell_type": "code",
      "execution_count": 3,
      "metadata": {
        "colab": {
          "base_uri": "https://localhost:8080/"
        },
        "id": "tfvztat5tw1I",
        "outputId": "70cf2cbc-e87c-4501-9065-2c2160221038"
      },
      "outputs": [
        {
          "data": {
            "text/plain": [
              "{'Baku': [73, 53],\n",
              " 'Quba': [15, 24],\n",
              " 'Seki': [84, 82],\n",
              " 'Lenkeran': [62, 13],\n",
              " 'Sumqayit': [93, 30],\n",
              " 'Mingecevir': [36, 20],\n",
              " 'Masalli': [69, 89]}"
            ]
          },
          "execution_count": 3,
          "metadata": {},
          "output_type": "execute_result"
        }
      ],
      "source": [
        "\n",
        "coordinates_list = [[x,y] for x,y in zip(np.random.randint(0,100,cities),np.random.randint(0,100,cities))]\n",
        "names_list = np.array(['Baku', 'Quba', 'Seki', 'Lenkeran', 'Sumqayit', 'Mingecevir', 'Masalli'])\n",
        "cities_dict = { x:y for x,y in zip(names_list,coordinates_list)}\n",
        "\n",
        "\n",
        "def compute_city_distance_coordinates(a,b):\n",
        "    return ((a[0]-b[0])**2+(a[1]-b[1])**2)**0.5\n",
        "\n",
        "def compute_city_distance_names(city_a, city_b, cities_dict):\n",
        "    return compute_city_distance_coordinates(cities_dict[city_a], cities_dict[city_b])\n",
        "cities_dict"
      ]
    },
    {
      "cell_type": "code",
      "execution_count": 4,
      "metadata": {
        "colab": {
          "base_uri": "https://localhost:8080/"
        },
        "id": "qVy3oLnVuQOA",
        "outputId": "4b029c89-6857-4d92-afa3-3ecfbb4f85b1"
      },
      "outputs": [
        {
          "data": {
            "text/plain": [
              "array([['Lenkeran', 'Quba', 'Mingecevir', 'Seki', 'Masalli', 'Baku',\n",
              "        'Sumqayit'],\n",
              "       ['Mingecevir', 'Masalli', 'Lenkeran', 'Seki', 'Quba', 'Sumqayit',\n",
              "        'Baku'],\n",
              "       ['Sumqayit', 'Masalli', 'Quba', 'Baku', 'Seki', 'Lenkeran',\n",
              "        'Mingecevir'],\n",
              "       ['Masalli', 'Mingecevir', 'Lenkeran', 'Seki', 'Baku', 'Sumqayit',\n",
              "        'Quba'],\n",
              "       ['Lenkeran', 'Baku', 'Quba', 'Masalli', 'Seki', 'Sumqayit',\n",
              "        'Mingecevir'],\n",
              "       ['Baku', 'Mingecevir', 'Quba', 'Lenkeran', 'Masalli', 'Sumqayit',\n",
              "        'Seki'],\n",
              "       ['Quba', 'Seki', 'Masalli', 'Sumqayit', 'Baku', 'Mingecevir',\n",
              "        'Lenkeran'],\n",
              "       ['Sumqayit', 'Mingecevir', 'Baku', 'Lenkeran', 'Quba', 'Seki',\n",
              "        'Masalli'],\n",
              "       ['Lenkeran', 'Sumqayit', 'Quba', 'Masalli', 'Mingecevir', 'Seki',\n",
              "        'Baku'],\n",
              "       ['Seki', 'Lenkeran', 'Masalli', 'Baku', 'Sumqayit', 'Quba',\n",
              "        'Mingecevir'],\n",
              "       ['Masalli', 'Lenkeran', 'Seki', 'Baku', 'Mingecevir', 'Sumqayit',\n",
              "        'Quba'],\n",
              "       ['Seki', 'Lenkeran', 'Baku', 'Quba', 'Masalli', 'Mingecevir',\n",
              "        'Sumqayit'],\n",
              "       ['Mingecevir', 'Seki', 'Masalli', 'Sumqayit', 'Quba', 'Baku',\n",
              "        'Lenkeran'],\n",
              "       ['Seki', 'Quba', 'Lenkeran', 'Mingecevir', 'Sumqayit', 'Masalli',\n",
              "        'Baku'],\n",
              "       ['Baku', 'Lenkeran', 'Quba', 'Seki', 'Mingecevir', 'Masalli',\n",
              "        'Sumqayit'],\n",
              "       ['Seki', 'Baku', 'Masalli', 'Sumqayit', 'Quba', 'Mingecevir',\n",
              "        'Lenkeran'],\n",
              "       ['Seki', 'Mingecevir', 'Baku', 'Masalli', 'Sumqayit', 'Quba',\n",
              "        'Lenkeran'],\n",
              "       ['Sumqayit', 'Seki', 'Mingecevir', 'Masalli', 'Baku', 'Quba',\n",
              "        'Lenkeran'],\n",
              "       ['Quba', 'Seki', 'Masalli', 'Mingecevir', 'Sumqayit', 'Lenkeran',\n",
              "        'Baku'],\n",
              "       ['Quba', 'Sumqayit', 'Mingecevir', 'Masalli', 'Baku', 'Lenkeran',\n",
              "        'Seki'],\n",
              "       ['Lenkeran', 'Quba', 'Masalli', 'Baku', 'Sumqayit', 'Mingecevir',\n",
              "        'Seki'],\n",
              "       ['Seki', 'Baku', 'Sumqayit', 'Lenkeran', 'Quba', 'Mingecevir',\n",
              "        'Masalli'],\n",
              "       ['Mingecevir', 'Lenkeran', 'Sumqayit', 'Baku', 'Quba', 'Masalli',\n",
              "        'Seki'],\n",
              "       ['Seki', 'Mingecevir', 'Quba', 'Masalli', 'Baku', 'Lenkeran',\n",
              "        'Sumqayit'],\n",
              "       ['Masalli', 'Baku', 'Seki', 'Mingecevir', 'Lenkeran', 'Quba',\n",
              "        'Sumqayit'],\n",
              "       ['Mingecevir', 'Quba', 'Seki', 'Sumqayit', 'Lenkeran', 'Masalli',\n",
              "        'Baku'],\n",
              "       ['Baku', 'Masalli', 'Seki', 'Mingecevir', 'Sumqayit', 'Quba',\n",
              "        'Lenkeran'],\n",
              "       ['Seki', 'Quba', 'Baku', 'Masalli', 'Lenkeran', 'Mingecevir',\n",
              "        'Sumqayit'],\n",
              "       ['Quba', 'Lenkeran', 'Masalli', 'Sumqayit', 'Seki', 'Baku',\n",
              "        'Mingecevir'],\n",
              "       ['Baku', 'Sumqayit', 'Masalli', 'Mingecevir', 'Lenkeran', 'Quba',\n",
              "        'Seki'],\n",
              "       ['Quba', 'Mingecevir', 'Sumqayit', 'Lenkeran', 'Seki', 'Baku',\n",
              "        'Masalli'],\n",
              "       ['Lenkeran', 'Sumqayit', 'Baku', 'Mingecevir', 'Masalli', 'Quba',\n",
              "        'Seki'],\n",
              "       ['Lenkeran', 'Quba', 'Baku', 'Sumqayit', 'Mingecevir', 'Seki',\n",
              "        'Masalli'],\n",
              "       ['Lenkeran', 'Baku', 'Mingecevir', 'Quba', 'Seki', 'Sumqayit',\n",
              "        'Masalli'],\n",
              "       ['Sumqayit', 'Mingecevir', 'Quba', 'Seki', 'Lenkeran', 'Baku',\n",
              "        'Masalli'],\n",
              "       ['Masalli', 'Sumqayit', 'Mingecevir', 'Lenkeran', 'Quba', 'Seki',\n",
              "        'Baku'],\n",
              "       ['Lenkeran', 'Baku', 'Masalli', 'Sumqayit', 'Seki', 'Quba',\n",
              "        'Mingecevir'],\n",
              "       ['Sumqayit', 'Seki', 'Quba', 'Masalli', 'Mingecevir', 'Baku',\n",
              "        'Lenkeran'],\n",
              "       ['Lenkeran', 'Sumqayit', 'Quba', 'Masalli', 'Mingecevir', 'Seki',\n",
              "        'Baku'],\n",
              "       ['Masalli', 'Lenkeran', 'Seki', 'Sumqayit', 'Quba', 'Baku',\n",
              "        'Mingecevir'],\n",
              "       ['Masalli', 'Seki', 'Sumqayit', 'Quba', 'Mingecevir', 'Lenkeran',\n",
              "        'Baku'],\n",
              "       ['Seki', 'Quba', 'Mingecevir', 'Masalli', 'Lenkeran', 'Baku',\n",
              "        'Sumqayit'],\n",
              "       ['Mingecevir', 'Quba', 'Lenkeran', 'Baku', 'Sumqayit', 'Masalli',\n",
              "        'Seki'],\n",
              "       ['Quba', 'Mingecevir', 'Masalli', 'Lenkeran', 'Seki', 'Baku',\n",
              "        'Sumqayit'],\n",
              "       ['Masalli', 'Mingecevir', 'Baku', 'Seki', 'Lenkeran', 'Sumqayit',\n",
              "        'Quba'],\n",
              "       ['Masalli', 'Seki', 'Sumqayit', 'Lenkeran', 'Mingecevir', 'Baku',\n",
              "        'Quba'],\n",
              "       ['Masalli', 'Baku', 'Lenkeran', 'Sumqayit', 'Seki', 'Mingecevir',\n",
              "        'Quba'],\n",
              "       ['Masalli', 'Sumqayit', 'Seki', 'Lenkeran', 'Quba', 'Baku',\n",
              "        'Mingecevir'],\n",
              "       ['Sumqayit', 'Masalli', 'Lenkeran', 'Quba', 'Baku', 'Seki',\n",
              "        'Mingecevir'],\n",
              "       ['Mingecevir', 'Lenkeran', 'Sumqayit', 'Masalli', 'Quba', 'Baku',\n",
              "        'Seki'],\n",
              "       ['Mingecevir', 'Lenkeran', 'Baku', 'Sumqayit', 'Quba', 'Masalli',\n",
              "        'Seki'],\n",
              "       ['Mingecevir', 'Lenkeran', 'Seki', 'Sumqayit', 'Masalli', 'Baku',\n",
              "        'Quba'],\n",
              "       ['Baku', 'Quba', 'Seki', 'Masalli', 'Sumqayit', 'Mingecevir',\n",
              "        'Lenkeran'],\n",
              "       ['Masalli', 'Baku', 'Sumqayit', 'Mingecevir', 'Lenkeran', 'Seki',\n",
              "        'Quba'],\n",
              "       ['Baku', 'Sumqayit', 'Mingecevir', 'Lenkeran', 'Masalli', 'Quba',\n",
              "        'Seki'],\n",
              "       ['Baku', 'Mingecevir', 'Sumqayit', 'Masalli', 'Seki', 'Quba',\n",
              "        'Lenkeran'],\n",
              "       ['Mingecevir', 'Seki', 'Sumqayit', 'Masalli', 'Lenkeran', 'Quba',\n",
              "        'Baku'],\n",
              "       ['Seki', 'Quba', 'Mingecevir', 'Baku', 'Sumqayit', 'Masalli',\n",
              "        'Lenkeran'],\n",
              "       ['Lenkeran', 'Mingecevir', 'Sumqayit', 'Seki', 'Quba', 'Masalli',\n",
              "        'Baku'],\n",
              "       ['Quba', 'Lenkeran', 'Masalli', 'Baku', 'Mingecevir', 'Sumqayit',\n",
              "        'Seki'],\n",
              "       ['Quba', 'Lenkeran', 'Seki', 'Masalli', 'Sumqayit', 'Baku',\n",
              "        'Mingecevir'],\n",
              "       ['Masalli', 'Seki', 'Sumqayit', 'Baku', 'Lenkeran', 'Mingecevir',\n",
              "        'Quba'],\n",
              "       ['Masalli', 'Sumqayit', 'Mingecevir', 'Quba', 'Lenkeran', 'Seki',\n",
              "        'Baku'],\n",
              "       ['Seki', 'Baku', 'Masalli', 'Mingecevir', 'Quba', 'Lenkeran',\n",
              "        'Sumqayit'],\n",
              "       ['Mingecevir', 'Seki', 'Sumqayit', 'Quba', 'Baku', 'Masalli',\n",
              "        'Lenkeran'],\n",
              "       ['Mingecevir', 'Baku', 'Lenkeran', 'Masalli', 'Quba', 'Sumqayit',\n",
              "        'Seki'],\n",
              "       ['Mingecevir', 'Masalli', 'Seki', 'Sumqayit', 'Quba', 'Baku',\n",
              "        'Lenkeran'],\n",
              "       ['Mingecevir', 'Baku', 'Seki', 'Quba', 'Sumqayit', 'Lenkeran',\n",
              "        'Masalli'],\n",
              "       ['Lenkeran', 'Masalli', 'Quba', 'Seki', 'Baku', 'Mingecevir',\n",
              "        'Sumqayit'],\n",
              "       ['Masalli', 'Mingecevir', 'Lenkeran', 'Seki', 'Baku', 'Sumqayit',\n",
              "        'Quba'],\n",
              "       ['Quba', 'Mingecevir', 'Baku', 'Seki', 'Sumqayit', 'Lenkeran',\n",
              "        'Masalli'],\n",
              "       ['Mingecevir', 'Seki', 'Masalli', 'Quba', 'Lenkeran', 'Sumqayit',\n",
              "        'Baku'],\n",
              "       ['Mingecevir', 'Sumqayit', 'Lenkeran', 'Baku', 'Masalli', 'Seki',\n",
              "        'Quba'],\n",
              "       ['Baku', 'Sumqayit', 'Masalli', 'Mingecevir', 'Lenkeran', 'Seki',\n",
              "        'Quba'],\n",
              "       ['Mingecevir', 'Seki', 'Lenkeran', 'Quba', 'Baku', 'Sumqayit',\n",
              "        'Masalli'],\n",
              "       ['Lenkeran', 'Baku', 'Sumqayit', 'Seki', 'Quba', 'Mingecevir',\n",
              "        'Masalli'],\n",
              "       ['Quba', 'Baku', 'Seki', 'Sumqayit', 'Lenkeran', 'Mingecevir',\n",
              "        'Masalli'],\n",
              "       ['Sumqayit', 'Baku', 'Lenkeran', 'Mingecevir', 'Masalli', 'Seki',\n",
              "        'Quba'],\n",
              "       ['Seki', 'Lenkeran', 'Sumqayit', 'Mingecevir', 'Quba', 'Masalli',\n",
              "        'Baku'],\n",
              "       ['Quba', 'Mingecevir', 'Lenkeran', 'Baku', 'Sumqayit', 'Seki',\n",
              "        'Masalli'],\n",
              "       ['Quba', 'Sumqayit', 'Masalli', 'Lenkeran', 'Seki', 'Mingecevir',\n",
              "        'Baku'],\n",
              "       ['Baku', 'Seki', 'Mingecevir', 'Quba', 'Lenkeran', 'Sumqayit',\n",
              "        'Masalli'],\n",
              "       ['Lenkeran', 'Masalli', 'Sumqayit', 'Seki', 'Mingecevir', 'Baku',\n",
              "        'Quba'],\n",
              "       ['Seki', 'Sumqayit', 'Mingecevir', 'Baku', 'Masalli', 'Quba',\n",
              "        'Lenkeran'],\n",
              "       ['Baku', 'Quba', 'Mingecevir', 'Masalli', 'Seki', 'Sumqayit',\n",
              "        'Lenkeran'],\n",
              "       ['Lenkeran', 'Seki', 'Sumqayit', 'Quba', 'Baku', 'Mingecevir',\n",
              "        'Masalli'],\n",
              "       ['Baku', 'Lenkeran', 'Sumqayit', 'Seki', 'Mingecevir', 'Quba',\n",
              "        'Masalli'],\n",
              "       ['Baku', 'Quba', 'Lenkeran', 'Seki', 'Sumqayit', 'Mingecevir',\n",
              "        'Masalli'],\n",
              "       ['Masalli', 'Baku', 'Seki', 'Quba', 'Mingecevir', 'Lenkeran',\n",
              "        'Sumqayit'],\n",
              "       ['Sumqayit', 'Mingecevir', 'Masalli', 'Quba', 'Lenkeran', 'Baku',\n",
              "        'Seki'],\n",
              "       ['Mingecevir', 'Lenkeran', 'Seki', 'Quba', 'Sumqayit', 'Masalli',\n",
              "        'Baku'],\n",
              "       ['Mingecevir', 'Baku', 'Lenkeran', 'Masalli', 'Quba', 'Sumqayit',\n",
              "        'Seki'],\n",
              "       ['Mingecevir', 'Masalli', 'Seki', 'Lenkeran', 'Quba', 'Baku',\n",
              "        'Sumqayit'],\n",
              "       ['Baku', 'Sumqayit', 'Masalli', 'Quba', 'Mingecevir', 'Lenkeran',\n",
              "        'Seki'],\n",
              "       ['Baku', 'Lenkeran', 'Sumqayit', 'Masalli', 'Mingecevir', 'Quba',\n",
              "        'Seki'],\n",
              "       ['Sumqayit', 'Baku', 'Lenkeran', 'Quba', 'Seki', 'Masalli',\n",
              "        'Mingecevir'],\n",
              "       ['Sumqayit', 'Masalli', 'Lenkeran', 'Baku', 'Quba', 'Mingecevir',\n",
              "        'Seki'],\n",
              "       ['Seki', 'Baku', 'Lenkeran', 'Quba', 'Sumqayit', 'Masalli',\n",
              "        'Mingecevir'],\n",
              "       ['Seki', 'Quba', 'Masalli', 'Mingecevir', 'Sumqayit', 'Baku',\n",
              "        'Lenkeran'],\n",
              "       ['Sumqayit', 'Seki', 'Mingecevir', 'Baku', 'Quba', 'Lenkeran',\n",
              "        'Masalli']], dtype='<U10')"
            ]
          },
          "execution_count": 4,
          "metadata": {},
          "output_type": "execute_result"
        }
      ],
      "source": [
        "def genesis(city_list, n_population):\n",
        "\n",
        "    population_set = []\n",
        "    for i in range(population):\n",
        "  \n",
        "        sol_i = city_list[np.random.choice(list(range(cities)), cities, replace=False)]\n",
        "        population_set.append(sol_i)\n",
        "    return np.array(population_set)\n",
        "\n",
        "population_set = genesis(names_list, population)\n",
        "population_set"
      ]
    },
    {
      "cell_type": "code",
      "execution_count": 5,
      "metadata": {
        "id": "vPhzPdzPuem4"
      },
      "outputs": [],
      "source": [
        "def fitness_eval(city_list, cities_dict):\n",
        "    total = 0\n",
        "    for i in range(cities-1):\n",
        "        a = city_list[i]\n",
        "        b = city_list[i+1]\n",
        "        total += compute_city_distance_names(a,b, cities_dict)\n",
        "    return total"
      ]
    },
    {
      "cell_type": "code",
      "execution_count": 6,
      "metadata": {
        "colab": {
          "base_uri": "https://localhost:8080/"
        },
        "id": "gkqBc2fMukL-",
        "outputId": "d5c7985e-2d7f-4893-c9cf-8bccde8f9097"
      },
      "outputs": [
        {
          "data": {
            "text/plain": [
              "array([231.31080222, 424.07806461, 343.40931397, 315.55954398,\n",
              "       318.03193588, 312.01522347, 277.36985737, 303.89550402,\n",
              "       384.00080635, 315.0530889 , 365.43937976, 397.61355625,\n",
              "       343.21804949, 323.12134896, 398.48285205, 257.46606037,\n",
              "       354.40403088, 357.00516049, 317.88784122, 362.71511656,\n",
              "       335.75528148, 242.98388978, 258.66401886, 297.35299585,\n",
              "       299.07317497, 312.18800665, 315.55471664, 352.32435062,\n",
              "       321.65378999, 335.99405724, 254.2634802 , 366.54157374,\n",
              "       296.42821988, 319.04718123, 319.51573521, 317.91593325,\n",
              "       305.69050076, 394.9647696 , 384.00080635, 394.17178029,\n",
              "       237.34479282, 336.28775886, 221.85959932, 308.10253702,\n",
              "       343.08777872, 246.03140003, 265.62165731, 351.58432112,\n",
              "       362.55762424, 306.34228079, 278.17807434, 316.88339113,\n",
              "       320.02865157, 314.0585652 , 366.24077778, 326.10515076,\n",
              "       384.31459861, 331.59033392, 348.43422862, 321.03516713,\n",
              "       280.99769723, 189.59386526, 294.65125789, 248.72592903,\n",
              "       386.80191072, 382.89281149, 330.3726745 , 360.64058328,\n",
              "       389.4297983 , 315.55954398, 266.42203007, 293.57148016,\n",
              "       277.62408907, 360.14635593, 358.12168533, 312.73917046,\n",
              "       287.40165119, 282.06728232, 307.75179311, 189.59386526,\n",
              "       418.65647663, 278.12286266, 385.62274609, 329.21791727,\n",
              "       267.390206  , 394.33538538, 313.90455451, 372.66735422,\n",
              "       241.0351687 , 339.63141105, 367.63353133, 382.89281149,\n",
              "       309.0561565 , 299.40427741, 328.53649276, 303.41153183,\n",
              "       346.1339212 , 339.18144073, 380.96349586, 370.19823587])"
            ]
          },
          "execution_count": 6,
          "metadata": {},
          "output_type": "execute_result"
        }
      ],
      "source": [
        "def get_all_fitnes(population_set, cities_dict):\n",
        "    fitnes_list = np.zeros(population)\n",
        "\n",
        "    for i in  range(population):\n",
        "        fitnes_list[i] = fitness_eval(population_set[i], cities_dict)\n",
        "\n",
        "    return fitnes_list\n",
        "\n",
        "fitnes_list = get_all_fitnes(population_set,cities_dict)\n",
        "fitnes_list"
      ]
    },
    {
      "cell_type": "code",
      "execution_count": 8,
      "metadata": {
        "colab": {
          "base_uri": "https://localhost:8080/"
        },
        "id": "0k4irGJcuqev",
        "outputId": "9826ad6a-e0f3-43df-8ba4-6815ae082bc1"
      },
      "outputs": [
        {
          "data": {
            "text/plain": [
              "array(['Mingecevir', 'Quba', 'Seki', 'Sumqayit', 'Lenkeran', 'Masalli',\n",
              "       'Baku'], dtype='<U10')"
            ]
          },
          "execution_count": 8,
          "metadata": {},
          "output_type": "execute_result"
        }
      ],
      "source": [
        "def progenitor_selection(population_set,fitnes_list):\n",
        "    total_fit = fitnes_list.sum()\n",
        "    prob_list = fitnes_list/total_fit\n",
        "    \n",
        " \n",
        "    progenitor_list_a = np.random.choice(list(range(len(population_set))), len(population_set),p=prob_list, replace=True)\n",
        "    progenitor_list_b = np.random.choice(list(range(len(population_set))), len(population_set),p=prob_list, replace=True)\n",
        "    \n",
        "    progenitor_list_a = population_set[progenitor_list_a]\n",
        "    progenitor_list_b = population_set[progenitor_list_b]\n",
        "    \n",
        "    \n",
        "    return np.array([progenitor_list_a,progenitor_list_b])\n",
        "\n",
        "\n",
        "progenitor_list = progenitor_selection(population_set,fitnes_list)\n",
        "progenitor_list[0][2]"
      ]
    },
    {
      "cell_type": "code",
      "execution_count": 9,
      "metadata": {
        "colab": {
          "base_uri": "https://localhost:8080/"
        },
        "id": "ZYcl9XLGuvL3",
        "outputId": "a12a097d-6102-43ec-bcd4-d42694981a08"
      },
      "outputs": [
        {
          "data": {
            "text/plain": [
              "array(['Seki', 'Quba', 'Masalli', 'Mingecevir', 'Sumqayit', 'Baku',\n",
              "       'Lenkeran'], dtype='<U10')"
            ]
          },
          "execution_count": 9,
          "metadata": {},
          "output_type": "execute_result"
        }
      ],
      "source": [
        "def mate_progenitors(prog_a, prog_b):\n",
        "    offspring = prog_a[0:5]\n",
        "\n",
        "    for city in prog_b:\n",
        "\n",
        "        if not city in offspring:\n",
        "            offspring = np.concatenate((offspring,[city]))\n",
        "\n",
        "    return offspring\n",
        "            \n",
        "    \n",
        "    \n",
        "def mate_population(progenitor_list):\n",
        "    new_population_set = []\n",
        "    for i in range(progenitor_list.shape[1]):\n",
        "        prog_a, prog_b = progenitor_list[0][i], progenitor_list[1][i]\n",
        "        offspring = mate_progenitors(prog_a, prog_b)\n",
        "        new_population_set.append(offspring)\n",
        "        \n",
        "    return new_population_set\n",
        "\n",
        "new_population_set = mate_population(progenitor_list)\n",
        "new_population_set[0]"
      ]
    },
    {
      "cell_type": "code",
      "execution_count": 10,
      "metadata": {
        "colab": {
          "base_uri": "https://localhost:8080/"
        },
        "id": "Ow7-BHI5u16o",
        "outputId": "b14cfc57-a179-4e17-8570-e0f3de92f104"
      },
      "outputs": [
        {
          "data": {
            "text/plain": [
              "array(['Seki', 'Quba', 'Masalli', 'Mingecevir', 'Sumqayit', 'Baku',\n",
              "       'Lenkeran'], dtype='<U10')"
            ]
          },
          "execution_count": 10,
          "metadata": {},
          "output_type": "execute_result"
        }
      ],
      "source": [
        "def mutate_offspring(offspring):\n",
        "    for q in range(int(cities*mutation_rate)):\n",
        "        a = np.random.randint(0,cities)\n",
        "        b = np.random.randint(0,cities)\n",
        "\n",
        "        offspring[a], offspring[b] = offspring[b], offspring[a]\n",
        "\n",
        "    return offspring\n",
        "    \n",
        "    \n",
        "def mutate_population(new_population_set):\n",
        "    mutated_pop = []\n",
        "    for offspring in new_population_set:\n",
        "        mutated_pop.append(mutate_offspring(offspring))\n",
        "    return mutated_pop\n",
        "\n",
        "mutated_pop = mutate_population(new_population_set)\n",
        "mutated_pop[0]"
      ]
    },
    {
      "cell_type": "code",
      "execution_count": 11,
      "metadata": {
        "colab": {
          "base_uri": "https://localhost:8080/"
        },
        "id": "A79GkAKQu8Bw",
        "outputId": "b1ed0d57-9138-4ec5-fe47-62b052ab66bd"
      },
      "outputs": [
        {
          "name": "stdout",
          "output_type": "stream",
          "text": [
            "0 189.59386526082577 322.94951940694324 20/05/23 13:48\n",
            "100 216.57218427711337 325.9196485442706 20/05/23 13:48\n",
            "200 205.56674855998662 327.70188820080165 20/05/23 13:48\n",
            "300 231.47489794673783 328.6610752396326 20/05/23 13:48\n",
            "400 194.92237537439706 320.70537306800975 20/05/23 13:48\n"
          ]
        }
      ],
      "source": [
        "best_solution = [-1,np.inf,np.array([])]\n",
        "for i in range(500):\n",
        "    if i%100==0: print(i, fitnes_list.min(), fitnes_list.mean(), datetime.now().strftime(\"%d/%m/%y %H:%M\"))\n",
        "    fitnes_list = get_all_fitnes(mutated_pop,cities_dict)\n",
        "    \n",
        "\n",
        "    if fitnes_list.min() < best_solution[1]:\n",
        "        best_solution[0] = i\n",
        "        best_solution[1] = fitnes_list.min()\n",
        "        best_solution[2] = np.array(mutated_pop)[fitnes_list.min() == fitnes_list]\n",
        "    \n",
        "    progenitor_list = progenitor_selection(population_set,fitnes_list)\n",
        "    new_population_set = mate_population(progenitor_list)\n",
        "    \n",
        "    mutated_pop = mutate_population(new_population_set)"
      ]
    },
    {
      "cell_type": "code",
      "execution_count": 2,
      "metadata": {
        "colab": {
          "base_uri": "https://localhost:8080/"
        },
        "id": "SQ4X8ejVvWDm",
        "outputId": "be0abcba-921a-4101-8b0b-cdd5637e795a"
      },
      "outputs": [
        {
          "ename": "NameError",
          "evalue": "name 'best_solution' is not defined",
          "output_type": "error",
          "traceback": [
            "\u001b[1;31m---------------------------------------------------------------------------\u001b[0m",
            "\u001b[1;31mNameError\u001b[0m                                 Traceback (most recent call last)",
            "Cell \u001b[1;32mIn[2], line 1\u001b[0m\n\u001b[1;32m----> 1\u001b[0m best_solution\n",
            "\u001b[1;31mNameError\u001b[0m: name 'best_solution' is not defined"
          ]
        }
      ],
      "source": [
        "best_solution"
      ]
    }
  ],
  "metadata": {
    "colab": {
      "name": "Untitled2.ipynb",
      "provenance": []
    },
    "kernelspec": {
      "display_name": "Python 3",
      "name": "python3"
    },
    "language_info": {
      "codemirror_mode": {
        "name": "ipython",
        "version": 3
      },
      "file_extension": ".py",
      "mimetype": "text/x-python",
      "name": "python",
      "nbconvert_exporter": "python",
      "pygments_lexer": "ipython3",
      "version": "3.11.1"
    }
  },
  "nbformat": 4,
  "nbformat_minor": 0
}
